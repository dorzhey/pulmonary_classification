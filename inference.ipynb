{
 "cells": [
  {
   "cell_type": "code",
   "execution_count": 1,
   "id": "6c55c4b3",
   "metadata": {
    "execution": {
     "iopub.execute_input": "2022-11-28T23:24:49.659917Z",
     "iopub.status.busy": "2022-11-28T23:24:49.659096Z",
     "iopub.status.idle": "2022-11-28T23:24:56.146758Z",
     "shell.execute_reply": "2022-11-28T23:24:56.145790Z",
     "shell.execute_reply.started": "2022-11-28T21:38:01.894397Z"
    },
    "papermill": {
     "duration": 6.520707,
     "end_time": "2022-11-28T23:24:56.146945",
     "exception": false,
     "start_time": "2022-11-28T23:24:49.626238",
     "status": "completed"
    },
    "tags": []
   },
   "outputs": [],
   "source": [
    "import os\n",
    "import glob\n",
    "\n",
    "import shutil\n",
    "import matplotlib.pyplot as plt\n",
    "import seaborn as sns\n",
    "import scipy.io\n",
    "import numpy as np\n",
    "import cv2\n",
    "from PIL import Image\n",
    "import pandas as pd\n",
    "import gc\n",
    "from tqdm import tqdm\n",
    "\n",
    "\n",
    "\n",
    "import tensorflow as tf\n",
    "from tensorflow.keras.preprocessing.image import ImageDataGenerator\n",
    "from tensorflow.keras.callbacks import ReduceLROnPlateau, EarlyStopping, ModelCheckpoint\n",
    "from tensorflow.keras.models import Sequential, Model\n",
    "\n",
    "from tensorflow.keras.optimizers import Adam, SGD\n",
    "from tensorflow.keras.layers import Conv2D, MaxPooling2D, UpSampling2D, BatchNormalization, Reshape, Permute, Activation, Input, \\\n",
    "    add, multiply,Flatten, ReLU, Dense, AveragePooling2D, MaxPool2D, GlobalMaxPooling2D, GlobalAveragePooling2D, LeakyReLU\n",
    "from tensorflow.keras.layers import concatenate, Dropout\n",
    "from tensorflow.keras.models import Model"
   ]
  },
  {
   "cell_type": "code",
   "execution_count": 2,
   "id": "7542c190",
   "metadata": {
    "execution": {
     "iopub.execute_input": "2022-11-28T23:24:56.193633Z",
     "iopub.status.busy": "2022-11-28T23:24:56.192835Z",
     "iopub.status.idle": "2022-11-28T23:24:56.311454Z",
     "shell.execute_reply": "2022-11-28T23:24:56.310951Z",
     "shell.execute_reply.started": "2022-11-28T21:38:08.094954Z"
    },
    "papermill": {
     "duration": 0.142942,
     "end_time": "2022-11-28T23:24:56.311597",
     "exception": false,
     "start_time": "2022-11-28T23:24:56.168655",
     "status": "completed"
    },
    "tags": []
   },
   "outputs": [],
   "source": [
    "import tensorflow_addons as tfa"
   ]
  },
  {
   "cell_type": "code",
   "execution_count": 3,
   "id": "a853d0e3",
   "metadata": {
    "execution": {
     "iopub.execute_input": "2022-11-28T23:24:56.356687Z",
     "iopub.status.busy": "2022-11-28T23:24:56.355940Z",
     "iopub.status.idle": "2022-11-28T23:24:56.358125Z",
     "shell.execute_reply": "2022-11-28T23:24:56.358628Z",
     "shell.execute_reply.started": "2022-11-28T21:38:08.212101Z"
    },
    "papermill": {
     "duration": 0.026436,
     "end_time": "2022-11-28T23:24:56.358770",
     "exception": false,
     "start_time": "2022-11-28T23:24:56.332334",
     "status": "completed"
    },
    "tags": []
   },
   "outputs": [],
   "source": [
    "from tensorflow import ones_like"
   ]
  },
  {
   "cell_type": "code",
   "execution_count": 4,
   "id": "54a7c1c3",
   "metadata": {
    "execution": {
     "iopub.execute_input": "2022-11-28T23:24:56.402831Z",
     "iopub.status.busy": "2022-11-28T23:24:56.402047Z",
     "iopub.status.idle": "2022-11-28T23:24:59.527206Z",
     "shell.execute_reply": "2022-11-28T23:24:59.525611Z",
     "shell.execute_reply.started": "2022-11-28T21:38:08.218662Z"
    },
    "papermill": {
     "duration": 3.147862,
     "end_time": "2022-11-28T23:24:59.527435",
     "exception": false,
     "start_time": "2022-11-28T23:24:56.379573",
     "status": "completed"
    },
    "tags": []
   },
   "outputs": [
    {
     "name": "stderr",
     "output_type": "stream",
     "text": [
      "2022-11-28 23:24:56.411008: I tensorflow/core/platform/cpu_feature_guard.cc:142] This TensorFlow binary is optimized with oneAPI Deep Neural Network Library (oneDNN) to use the following CPU instructions in performance-critical operations:  AVX2 AVX512F FMA\n",
      "To enable them in other operations, rebuild TensorFlow with the appropriate compiler flags.\n",
      "2022-11-28 23:24:56.497037: I tensorflow/stream_executor/cuda/cuda_gpu_executor.cc:937] successful NUMA node read from SysFS had negative value (-1), but there must be at least one NUMA node, so returning NUMA node zero\n",
      "2022-11-28 23:24:56.630958: I tensorflow/stream_executor/cuda/cuda_gpu_executor.cc:937] successful NUMA node read from SysFS had negative value (-1), but there must be at least one NUMA node, so returning NUMA node zero\n",
      "2022-11-28 23:24:56.632398: I tensorflow/stream_executor/cuda/cuda_gpu_executor.cc:937] successful NUMA node read from SysFS had negative value (-1), but there must be at least one NUMA node, so returning NUMA node zero\n",
      "2022-11-28 23:24:59.088042: I tensorflow/stream_executor/cuda/cuda_gpu_executor.cc:937] successful NUMA node read from SysFS had negative value (-1), but there must be at least one NUMA node, so returning NUMA node zero\n",
      "2022-11-28 23:24:59.089581: I tensorflow/stream_executor/cuda/cuda_gpu_executor.cc:937] successful NUMA node read from SysFS had negative value (-1), but there must be at least one NUMA node, so returning NUMA node zero\n",
      "2022-11-28 23:24:59.090964: I tensorflow/stream_executor/cuda/cuda_gpu_executor.cc:937] successful NUMA node read from SysFS had negative value (-1), but there must be at least one NUMA node, so returning NUMA node zero\n",
      "2022-11-28 23:24:59.092183: I tensorflow/core/common_runtime/gpu/gpu_device.cc:1510] Created device /job:localhost/replica:0/task:0/device:GPU:0 with 15403 MB memory:  -> device: 0, name: Tesla P100-PCIE-16GB, pci bus id: 0000:00:04.0, compute capability: 6.0\n"
     ]
    },
    {
     "name": "stdout",
     "output_type": "stream",
     "text": [
      "Num GPUs Available:  1\n"
     ]
    },
    {
     "name": "stderr",
     "output_type": "stream",
     "text": [
      "2022-11-28 23:24:59.515610: I tensorflow/stream_executor/cuda/cuda_gpu_executor.cc:937] successful NUMA node read from SysFS had negative value (-1), but there must be at least one NUMA node, so returning NUMA node zero\n",
      "2022-11-28 23:24:59.516900: I tensorflow/stream_executor/cuda/cuda_gpu_executor.cc:937] successful NUMA node read from SysFS had negative value (-1), but there must be at least one NUMA node, so returning NUMA node zero\n",
      "2022-11-28 23:24:59.518036: I tensorflow/stream_executor/cuda/cuda_gpu_executor.cc:937] successful NUMA node read from SysFS had negative value (-1), but there must be at least one NUMA node, so returning NUMA node zero\n"
     ]
    }
   ],
   "source": [
    "machine = \"gpu\"\n",
    "\n",
    "if machine == \"gpu\":\n",
    "    config = tf.compat.v1.ConfigProto()\n",
    "    config.gpu_options.allow_growth = True\n",
    "    sess = tf.compat.v1.Session(config=config)\n",
    "    tf.compat.v1.keras.backend.set_session(sess)\n",
    "    print(\"Num GPUs Available: \", len(tf.config.list_physical_devices('GPU')))\n",
    "else:\n",
    "    strategy = tf.distribute.get_strategy()"
   ]
  },
  {
   "cell_type": "code",
   "execution_count": 5,
   "id": "a3fa5df6",
   "metadata": {
    "execution": {
     "iopub.execute_input": "2022-11-28T23:24:59.577530Z",
     "iopub.status.busy": "2022-11-28T23:24:59.576000Z",
     "iopub.status.idle": "2022-11-28T23:24:59.579724Z",
     "shell.execute_reply": "2022-11-28T23:24:59.580127Z",
     "shell.execute_reply.started": "2022-11-28T21:38:10.859195Z"
    },
    "papermill": {
     "duration": 0.028988,
     "end_time": "2022-11-28T23:24:59.580303",
     "exception": false,
     "start_time": "2022-11-28T23:24:59.551315",
     "status": "completed"
    },
    "tags": []
   },
   "outputs": [],
   "source": [
    "BATCH_SIZE = 32\n",
    "LEARNING_RATE = 3e-5"
   ]
  },
  {
   "cell_type": "code",
   "execution_count": 6,
   "id": "88d85961",
   "metadata": {
    "execution": {
     "iopub.execute_input": "2022-11-28T23:24:59.629271Z",
     "iopub.status.busy": "2022-11-28T23:24:59.628578Z",
     "iopub.status.idle": "2022-11-28T23:24:59.630768Z",
     "shell.execute_reply": "2022-11-28T23:24:59.631185Z",
     "shell.execute_reply.started": "2022-11-28T21:38:10.866437Z"
    },
    "papermill": {
     "duration": 0.029294,
     "end_time": "2022-11-28T23:24:59.631330",
     "exception": false,
     "start_time": "2022-11-28T23:24:59.602036",
     "status": "completed"
    },
    "tags": []
   },
   "outputs": [],
   "source": [
    "np.random.seed(80085)\n",
    "tf.random.set_seed(80085)"
   ]
  },
  {
   "cell_type": "code",
   "execution_count": 7,
   "id": "6a1b5df9",
   "metadata": {
    "execution": {
     "iopub.execute_input": "2022-11-28T23:24:59.679689Z",
     "iopub.status.busy": "2022-11-28T23:24:59.678946Z",
     "iopub.status.idle": "2022-11-28T23:24:59.681584Z",
     "shell.execute_reply": "2022-11-28T23:24:59.681099Z",
     "shell.execute_reply.started": "2022-11-28T21:38:10.881709Z"
    },
    "papermill": {
     "duration": 0.028096,
     "end_time": "2022-11-28T23:24:59.681694",
     "exception": false,
     "start_time": "2022-11-28T23:24:59.653598",
     "status": "completed"
    },
    "tags": []
   },
   "outputs": [],
   "source": [
    "DIR = \"../input/pulmonary-dataset/kaggle/Pulmonary_dataset/RSNA\""
   ]
  },
  {
   "cell_type": "code",
   "execution_count": 8,
   "id": "fe71bd18",
   "metadata": {
    "execution": {
     "iopub.execute_input": "2022-11-28T23:24:59.730970Z",
     "iopub.status.busy": "2022-11-28T23:24:59.730161Z",
     "iopub.status.idle": "2022-11-28T23:24:59.735067Z",
     "shell.execute_reply": "2022-11-28T23:24:59.734527Z",
     "shell.execute_reply.started": "2022-11-28T21:38:10.894068Z"
    },
    "papermill": {
     "duration": 0.029993,
     "end_time": "2022-11-28T23:24:59.735175",
     "exception": false,
     "start_time": "2022-11-28T23:24:59.705182",
     "status": "completed"
    },
    "tags": []
   },
   "outputs": [],
   "source": [
    "datagen = ImageDataGenerator(\n",
    "      rescale=1./255,\n",
    "      rotation_range=5,\n",
    "      shear_range=0.1,\n",
    "      zoom_range=0.1,\n",
    "    width_shift_range = 0.1,\n",
    "    height_shift_range = 0.1,\n",
    "    validation_split=0.4)"
   ]
  },
  {
   "cell_type": "code",
   "execution_count": 9,
   "id": "653187f7",
   "metadata": {
    "execution": {
     "iopub.execute_input": "2022-11-28T23:24:59.785884Z",
     "iopub.status.busy": "2022-11-28T23:24:59.785280Z",
     "iopub.status.idle": "2022-11-28T23:27:08.932098Z",
     "shell.execute_reply": "2022-11-28T23:27:08.931578Z",
     "shell.execute_reply.started": "2022-11-28T21:38:10.902217Z"
    },
    "papermill": {
     "duration": 129.174342,
     "end_time": "2022-11-28T23:27:08.932281",
     "exception": false,
     "start_time": "2022-11-28T23:24:59.757939",
     "status": "completed"
    },
    "tags": []
   },
   "outputs": [
    {
     "name": "stdout",
     "output_type": "stream",
     "text": [
      "Found 173772 images belonging to 2 classes.\n"
     ]
    }
   ],
   "source": [
    "train_generator = datagen.flow_from_directory(\n",
    "        DIR,\n",
    "        target_size=(256, 256),\n",
    "        batch_size=BATCH_SIZE,\n",
    "        class_mode='binary',\n",
    "        subset='training')"
   ]
  },
  {
   "cell_type": "code",
   "execution_count": 10,
   "id": "65fedb04",
   "metadata": {
    "execution": {
     "iopub.execute_input": "2022-11-28T23:27:08.982204Z",
     "iopub.status.busy": "2022-11-28T23:27:08.981396Z",
     "iopub.status.idle": "2022-11-28T23:27:59.399923Z",
     "shell.execute_reply": "2022-11-28T23:27:59.400399Z",
     "shell.execute_reply.started": "2022-11-28T21:42:08.225388Z"
    },
    "papermill": {
     "duration": 50.44571,
     "end_time": "2022-11-28T23:27:59.400563",
     "exception": false,
     "start_time": "2022-11-28T23:27:08.954853",
     "status": "completed"
    },
    "tags": []
   },
   "outputs": [
    {
     "name": "stdout",
     "output_type": "stream",
     "text": [
      "Found 115848 images belonging to 2 classes.\n"
     ]
    }
   ],
   "source": [
    "valid_generator = datagen.flow_from_directory(\n",
    "        DIR,\n",
    "        target_size=(256, 256),\n",
    "        batch_size=BATCH_SIZE,\n",
    "        class_mode='binary', \n",
    "        subset='validation')"
   ]
  },
  {
   "cell_type": "code",
   "execution_count": 11,
   "id": "02aaf9ed",
   "metadata": {
    "execution": {
     "iopub.execute_input": "2022-11-28T23:27:59.449913Z",
     "iopub.status.busy": "2022-11-28T23:27:59.449114Z",
     "iopub.status.idle": "2022-11-28T23:27:59.451893Z",
     "shell.execute_reply": "2022-11-28T23:27:59.451457Z",
     "shell.execute_reply.started": "2022-11-28T21:43:00.885585Z"
    },
    "papermill": {
     "duration": 0.028767,
     "end_time": "2022-11-28T23:27:59.452001",
     "exception": false,
     "start_time": "2022-11-28T23:27:59.423234",
     "status": "completed"
    },
    "tags": []
   },
   "outputs": [],
   "source": [
    "#from tensorflow.keras.applications import DenseNet121\n",
    "\n",
    "#conv_base = DenseNet121(weights=None, include_top=False, input_shape=(256,256,3))"
   ]
  },
  {
   "cell_type": "code",
   "execution_count": 12,
   "id": "47da6f27",
   "metadata": {
    "execution": {
     "iopub.execute_input": "2022-11-28T23:27:59.502245Z",
     "iopub.status.busy": "2022-11-28T23:27:59.501463Z",
     "iopub.status.idle": "2022-11-28T23:27:59.504027Z",
     "shell.execute_reply": "2022-11-28T23:27:59.503566Z",
     "shell.execute_reply.started": "2022-11-28T21:43:00.891363Z"
    },
    "papermill": {
     "duration": 0.029354,
     "end_time": "2022-11-28T23:27:59.504141",
     "exception": false,
     "start_time": "2022-11-28T23:27:59.474787",
     "status": "completed"
    },
    "tags": []
   },
   "outputs": [],
   "source": [
    "#model = Sequential()\n",
    "#model.add(conv_base)\n",
    "#model.add(GlobalMaxPooling2D())\n",
    "#model.add(Dense(units = 32))\n",
    "#model.add(BatchNormalization())\n",
    "#model.add(ReLU())\n",
    "#model.add(Dropout(0.2))\n",
    "\n",
    "#model.add(Dense(1, activation=\"sigmoid\"))\n",
    "#conv_base.trainable = True"
   ]
  },
  {
   "cell_type": "code",
   "execution_count": 13,
   "id": "dcf3bd57",
   "metadata": {
    "execution": {
     "iopub.execute_input": "2022-11-28T23:27:59.553406Z",
     "iopub.status.busy": "2022-11-28T23:27:59.552610Z",
     "iopub.status.idle": "2022-11-28T23:27:59.555103Z",
     "shell.execute_reply": "2022-11-28T23:27:59.554679Z",
     "shell.execute_reply.started": "2022-11-28T21:43:00.903305Z"
    },
    "papermill": {
     "duration": 0.028586,
     "end_time": "2022-11-28T23:27:59.555209",
     "exception": false,
     "start_time": "2022-11-28T23:27:59.526623",
     "status": "completed"
    },
    "tags": []
   },
   "outputs": [],
   "source": [
    "#from tensorflow.keras.applications import ResNet50V2\n",
    "\n",
    "#model = ResNet50V2(weights=None, include_top=True, input_shape=(256, 256, 3),classes=1,classifier_activation=\"sigmoid\")"
   ]
  },
  {
   "cell_type": "code",
   "execution_count": 14,
   "id": "47ca24a3",
   "metadata": {
    "execution": {
     "iopub.execute_input": "2022-11-28T23:27:59.608845Z",
     "iopub.status.busy": "2022-11-28T23:27:59.605453Z",
     "iopub.status.idle": "2022-11-28T23:28:01.607293Z",
     "shell.execute_reply": "2022-11-28T23:28:01.606760Z",
     "shell.execute_reply.started": "2022-11-28T21:43:00.913354Z"
    },
    "papermill": {
     "duration": 2.029467,
     "end_time": "2022-11-28T23:28:01.607440",
     "exception": false,
     "start_time": "2022-11-28T23:27:59.577973",
     "status": "completed"
    },
    "tags": []
   },
   "outputs": [
    {
     "name": "stderr",
     "output_type": "stream",
     "text": [
      "2022-11-28 23:27:59.641521: I tensorflow/stream_executor/cuda/cuda_gpu_executor.cc:937] successful NUMA node read from SysFS had negative value (-1), but there must be at least one NUMA node, so returning NUMA node zero\n",
      "2022-11-28 23:27:59.642879: I tensorflow/stream_executor/cuda/cuda_gpu_executor.cc:937] successful NUMA node read from SysFS had negative value (-1), but there must be at least one NUMA node, so returning NUMA node zero\n",
      "2022-11-28 23:27:59.643909: I tensorflow/stream_executor/cuda/cuda_gpu_executor.cc:937] successful NUMA node read from SysFS had negative value (-1), but there must be at least one NUMA node, so returning NUMA node zero\n",
      "2022-11-28 23:27:59.645489: I tensorflow/stream_executor/cuda/cuda_gpu_executor.cc:937] successful NUMA node read from SysFS had negative value (-1), but there must be at least one NUMA node, so returning NUMA node zero\n",
      "2022-11-28 23:27:59.646734: I tensorflow/stream_executor/cuda/cuda_gpu_executor.cc:937] successful NUMA node read from SysFS had negative value (-1), but there must be at least one NUMA node, so returning NUMA node zero\n",
      "2022-11-28 23:27:59.647646: I tensorflow/core/common_runtime/gpu/gpu_device.cc:1510] Created device /job:localhost/replica:0/task:0/device:GPU:0 with 15403 MB memory:  -> device: 0, name: Tesla P100-PCIE-16GB, pci bus id: 0000:00:04.0, compute capability: 6.0\n"
     ]
    }
   ],
   "source": [
    "from tensorflow.keras.applications import EfficientNetB2\n",
    "\n",
    "model = EfficientNetB2(weights=None, include_top=True, input_shape=(256, 256, 3),classes=1, classifier_activation=\"sigmoid\")"
   ]
  },
  {
   "cell_type": "code",
   "execution_count": 15,
   "id": "364969cd",
   "metadata": {
    "execution": {
     "iopub.execute_input": "2022-11-28T23:28:01.660060Z",
     "iopub.status.busy": "2022-11-28T23:28:01.659191Z",
     "iopub.status.idle": "2022-11-28T23:28:01.661621Z",
     "shell.execute_reply": "2022-11-28T23:28:01.661146Z",
     "shell.execute_reply.started": "2022-11-28T21:43:03.096259Z"
    },
    "papermill": {
     "duration": 0.030443,
     "end_time": "2022-11-28T23:28:01.661748",
     "exception": false,
     "start_time": "2022-11-28T23:28:01.631305",
     "status": "completed"
    },
    "tags": []
   },
   "outputs": [],
   "source": [
    "#model.summary()"
   ]
  },
  {
   "cell_type": "code",
   "execution_count": 16,
   "id": "d86f50e4",
   "metadata": {
    "execution": {
     "iopub.execute_input": "2022-11-28T23:28:01.717266Z",
     "iopub.status.busy": "2022-11-28T23:28:01.716215Z",
     "iopub.status.idle": "2022-11-28T23:28:02.705943Z",
     "shell.execute_reply": "2022-11-28T23:28:02.705439Z",
     "shell.execute_reply.started": "2022-11-28T21:43:03.102614Z"
    },
    "papermill": {
     "duration": 1.019073,
     "end_time": "2022-11-28T23:28:02.706087",
     "exception": false,
     "start_time": "2022-11-28T23:28:01.687014",
     "status": "completed"
    },
    "tags": []
   },
   "outputs": [],
   "source": [
    "!mkdir /kaggle/models"
   ]
  },
  {
   "cell_type": "code",
   "execution_count": 17,
   "id": "d7d05918",
   "metadata": {
    "execution": {
     "iopub.execute_input": "2022-11-28T23:28:02.760917Z",
     "iopub.status.busy": "2022-11-28T23:28:02.760040Z",
     "iopub.status.idle": "2022-11-28T23:28:02.779895Z",
     "shell.execute_reply": "2022-11-28T23:28:02.778984Z",
     "shell.execute_reply.started": "2022-11-28T21:43:04.105504Z"
    },
    "papermill": {
     "duration": 0.050729,
     "end_time": "2022-11-28T23:28:02.780011",
     "exception": false,
     "start_time": "2022-11-28T23:28:02.729282",
     "status": "completed"
    },
    "tags": []
   },
   "outputs": [],
   "source": [
    "loss = tf.keras.losses.BinaryCrossentropy() #tfa.losses.SigmoidFocalCrossEntropy()\n",
    "model.compile(loss=loss, \n",
    "              optimizer=tfa.optimizers.AdamW(learning_rate=LEARNING_RATE, weight_decay = 0.01), \n",
    "              metrics=['binary_accuracy'])\n",
    "\n",
    "learning_rate_reduction = ReduceLROnPlateau(monitor='val_binary_accuracy', patience = 3, verbose=1, factor=0.1, min_lr=1e-7)\n",
    "\n",
    "filepath = \"/kaggle/models/saved-model-{epoch:02d}-{val_binary_accuracy:.2f}.hdf5\"\n",
    "checkpoint = ModelCheckpoint(filepath, monitor='val_loss', verbose=1, \n",
    "                             save_best_only=False, save_freq='epoch')\n"
   ]
  },
  {
   "cell_type": "code",
   "execution_count": 18,
   "id": "a675576f",
   "metadata": {
    "execution": {
     "iopub.execute_input": "2022-11-28T23:28:02.832032Z",
     "iopub.status.busy": "2022-11-28T23:28:02.831133Z",
     "iopub.status.idle": "2022-11-28T23:28:04.096655Z",
     "shell.execute_reply": "2022-11-28T23:28:04.097734Z",
     "shell.execute_reply.started": "2022-11-28T21:43:04.135465Z"
    },
    "papermill": {
     "duration": 1.295376,
     "end_time": "2022-11-28T23:28:04.097932",
     "exception": false,
     "start_time": "2022-11-28T23:28:02.802556",
     "status": "completed"
    },
    "tags": []
   },
   "outputs": [
    {
     "name": "stdout",
     "output_type": "stream",
     "text": [
      "Mon Nov 28 23:28:03 2022       \r\n",
      "+-----------------------------------------------------------------------------+\r\n",
      "| NVIDIA-SMI 470.82.01    Driver Version: 470.82.01    CUDA Version: 11.4     |\r\n",
      "|-------------------------------+----------------------+----------------------+\r\n",
      "| GPU  Name        Persistence-M| Bus-Id        Disp.A | Volatile Uncorr. ECC |\r\n",
      "| Fan  Temp  Perf  Pwr:Usage/Cap|         Memory-Usage | GPU-Util  Compute M. |\r\n",
      "|                               |                      |               MIG M. |\r\n",
      "|===============================+======================+======================|\r\n",
      "|   0  Tesla P100-PCIE...  Off  | 00000000:00:04.0 Off |                    0 |\r\n",
      "| N/A   37C    P0    31W / 250W |    439MiB / 16280MiB |      0%      Default |\r\n",
      "|                               |                      |                  N/A |\r\n",
      "+-------------------------------+----------------------+----------------------+\r\n",
      "                                                                               \r\n",
      "+-----------------------------------------------------------------------------+\r\n",
      "| Processes:                                                                  |\r\n",
      "|  GPU   GI   CI        PID   Type   Process name                  GPU Memory |\r\n",
      "|        ID   ID                                                   Usage      |\r\n",
      "|=============================================================================|\r\n",
      "+-----------------------------------------------------------------------------+\r\n"
     ]
    }
   ],
   "source": [
    "!nvidia-smi"
   ]
  },
  {
   "cell_type": "code",
   "execution_count": 19,
   "id": "2b65a875",
   "metadata": {
    "execution": {
     "iopub.execute_input": "2022-11-28T23:28:04.182010Z",
     "iopub.status.busy": "2022-11-28T23:28:04.181210Z",
     "iopub.status.idle": "2022-11-29T07:40:30.236082Z",
     "shell.execute_reply": "2022-11-29T07:40:30.235593Z"
    },
    "papermill": {
     "duration": 29546.098618,
     "end_time": "2022-11-29T07:40:30.236210",
     "exception": false,
     "start_time": "2022-11-28T23:28:04.137592",
     "status": "completed"
    },
    "tags": []
   },
   "outputs": [
    {
     "name": "stderr",
     "output_type": "stream",
     "text": [
      "2022-11-28 23:28:05.069856: I tensorflow/compiler/mlir/mlir_graph_optimization_pass.cc:185] None of the MLIR Optimization Passes are enabled (registered 2)\n"
     ]
    },
    {
     "name": "stdout",
     "output_type": "stream",
     "text": [
      "Epoch 1/5\n"
     ]
    },
    {
     "name": "stderr",
     "output_type": "stream",
     "text": [
      "2022-11-28 23:28:19.624653: I tensorflow/stream_executor/cuda/cuda_dnn.cc:369] Loaded cuDNN version 8005\n"
     ]
    },
    {
     "name": "stdout",
     "output_type": "stream",
     "text": [
      "5431/5431 [==============================] - 6385s 1s/step - loss: 0.3254 - binary_accuracy: 0.6665 - val_loss: 0.6929 - val_binary_accuracy: 0.6667\n",
      "\n",
      "Epoch 00001: saving model to /kaggle/models/saved-model-01-0.67.hdf5\n"
     ]
    },
    {
     "name": "stderr",
     "output_type": "stream",
     "text": [
      "/opt/conda/lib/python3.7/site-packages/keras/utils/generic_utils.py:497: CustomMaskWarning: Custom mask layers require a config and must override get_config. When loading, the custom mask layer must be passed to the custom_objects argument.\n",
      "  category=CustomMaskWarning)\n"
     ]
    },
    {
     "name": "stdout",
     "output_type": "stream",
     "text": [
      "Epoch 2/5\n",
      "5431/5431 [==============================] - 5872s 1s/step - loss: 0.3234 - binary_accuracy: 0.6667 - val_loss: 0.6927 - val_binary_accuracy: 0.6667\n",
      "\n",
      "Epoch 00002: saving model to /kaggle/models/saved-model-02-0.67.hdf5\n",
      "Epoch 3/5\n",
      "5431/5431 [==============================] - 5768s 1s/step - loss: 0.3234 - binary_accuracy: 0.6667 - val_loss: 0.6923 - val_binary_accuracy: 0.6667\n",
      "\n",
      "Epoch 00003: saving model to /kaggle/models/saved-model-03-0.67.hdf5\n",
      "Epoch 4/5\n",
      "5431/5431 [==============================] - 5726s 1s/step - loss: 0.3234 - binary_accuracy: 0.6667 - val_loss: 0.6927 - val_binary_accuracy: 0.6667\n",
      "\n",
      "Epoch 00004: saving model to /kaggle/models/saved-model-04-0.67.hdf5\n",
      "\n",
      "Epoch 00004: ReduceLROnPlateau reducing learning rate to 2.9999999242136257e-06.\n",
      "Epoch 5/5\n",
      "5431/5431 [==============================] - 5703s 1s/step - loss: 0.3235 - binary_accuracy: 0.6667 - val_loss: 0.6931 - val_binary_accuracy: 0.6667\n",
      "\n",
      "Epoch 00005: saving model to /kaggle/models/saved-model-05-0.67.hdf5\n"
     ]
    }
   ],
   "source": [
    "history = model.fit(\n",
    "      train_generator,\n",
    "      epochs=5,\n",
    "      validation_data=valid_generator,\n",
    "      callbacks=[checkpoint,learning_rate_reduction],\n",
    "    class_weight = {0: 3/5, 1: 2/5},\n",
    "      verbose=1)"
   ]
  },
  {
   "cell_type": "code",
   "execution_count": 20,
   "id": "c0974a65",
   "metadata": {
    "execution": {
     "iopub.execute_input": "2022-11-29T07:40:47.627695Z",
     "iopub.status.busy": "2022-11-29T07:40:47.625914Z",
     "iopub.status.idle": "2022-11-29T07:40:47.628410Z",
     "shell.execute_reply": "2022-11-29T07:40:47.628861Z"
    },
    "papermill": {
     "duration": 8.486468,
     "end_time": "2022-11-29T07:40:47.629014",
     "exception": false,
     "start_time": "2022-11-29T07:40:39.142546",
     "status": "completed"
    },
    "tags": []
   },
   "outputs": [],
   "source": [
    "def plot_history():\n",
    "    plt.plot(history.history['binary_accuracy'], label='The score of correct predictions on the training set')\n",
    "    plt.plot(history.history['val_binary_accuracy'], label='The score of correct predictions on the val set')\n",
    "    plt.xlabel('Epoch')\n",
    "    plt.ylabel('Score correct answers')\n",
    "    plt.legend()\n",
    "    plt.show()"
   ]
  },
  {
   "cell_type": "code",
   "execution_count": 21,
   "id": "f27b22ab",
   "metadata": {
    "execution": {
     "iopub.execute_input": "2022-11-29T07:41:03.828832Z",
     "iopub.status.busy": "2022-11-29T07:41:03.827984Z",
     "iopub.status.idle": "2022-11-29T07:41:04.074169Z",
     "shell.execute_reply": "2022-11-29T07:41:04.074825Z"
    },
    "papermill": {
     "duration": 8.304218,
     "end_time": "2022-11-29T07:41:04.075003",
     "exception": false,
     "start_time": "2022-11-29T07:40:55.770785",
     "status": "completed"
    },
    "tags": []
   },
   "outputs": [
    {
     "data": {
      "image/png": "[encoded data removed]",
      "text/plain": [
       "<Figure size 432x288 with 1 Axes>"
      ]
     },
     "metadata": {
      "needs_background": "light"
     },
     "output_type": "display_data"
    }
   ],
   "source": [
    "plot_history()"
   ]
  },
  {
   "cell_type": "code",
   "execution_count": 22,
   "id": "32f195fc",
   "metadata": {
    "execution": {
     "iopub.execute_input": "2022-11-29T07:41:21.061684Z",
     "iopub.status.busy": "2022-11-29T07:41:21.060831Z",
     "iopub.status.idle": "2022-11-29T07:41:37.257391Z",
     "shell.execute_reply": "2022-11-29T07:41:37.257841Z"
    },
    "papermill": {
     "duration": 24.522334,
     "end_time": "2022-11-29T07:41:37.258013",
     "exception": false,
     "start_time": "2022-11-29T07:41:12.735679",
     "status": "completed"
    },
    "tags": []
   },
   "outputs": [
    {
     "name": "stderr",
     "output_type": "stream",
     "text": [
      "/opt/conda/lib/python3.7/site-packages/keras/engine/training.py:2006: UserWarning: `Model.evaluate_generator` is deprecated and will be removed in a future version. Please use `Model.evaluate`, which supports generators.\n",
      "  warnings.warn('`Model.evaluate_generator` is deprecated and '\n"
     ]
    }
   ],
   "source": [
    "best_acc = 0\n",
    "best_model = \"\"\n",
    "for i in os.listdir(\"/kaggle/models\"):\n",
    "    model.load_weights(\"/kaggle/models/\"+i)\n",
    "    loss, acc = model.evaluate_generator(valid_generator, steps=3, verbose=0)\n",
    "    if acc > best_acc:\n",
    "        best_model = i\n",
    "        best_acc = acc"
   ]
  },
  {
   "cell_type": "code",
   "execution_count": 23,
   "id": "bf8a4227",
   "metadata": {
    "execution": {
     "iopub.execute_input": "2022-11-29T07:41:54.260070Z",
     "iopub.status.busy": "2022-11-29T07:41:54.259171Z",
     "iopub.status.idle": "2022-11-29T07:41:57.703618Z",
     "shell.execute_reply": "2022-11-29T07:41:57.703141Z"
    },
    "papermill": {
     "duration": 11.794881,
     "end_time": "2022-11-29T07:41:57.703756",
     "exception": false,
     "start_time": "2022-11-29T07:41:45.908875",
     "status": "completed"
    },
    "tags": []
   },
   "outputs": [
    {
     "name": "stdout",
     "output_type": "stream",
     "text": [
      "accuracy is: 71.88%\n",
      "best model is saved-model-02-0.67.hdf5\n"
     ]
    }
   ],
   "source": [
    "model.load_weights(\"/kaggle/models/\"+best_model)\n",
    "loss, acc = model.evaluate_generator(valid_generator, steps=3, verbose=0)\n",
    "acc = acc *100\n",
    "print(f\"accuracy is: {acc:.2f}%\")\n",
    "print(\"best model is \" + best_model)"
   ]
  },
  {
   "cell_type": "code",
   "execution_count": 24,
   "id": "eb6b40f1",
   "metadata": {
    "execution": {
     "iopub.execute_input": "2022-11-29T07:42:14.996686Z",
     "iopub.status.busy": "2022-11-29T07:42:14.995890Z",
     "iopub.status.idle": "2022-11-29T07:42:14.998855Z",
     "shell.execute_reply": "2022-11-29T07:42:14.999292Z"
    },
    "papermill": {
     "duration": 8.976504,
     "end_time": "2022-11-29T07:42:14.999441",
     "exception": false,
     "start_time": "2022-11-29T07:42:06.022937",
     "status": "completed"
    },
    "tags": []
   },
   "outputs": [
    {
     "data": {
      "text/html": [
       "<a href='/kaggle/models/saved-model-02-0.67.hdf5' target='_blank'>/kaggle/models/saved-model-02-0.67.hdf5</a><br>"
      ],
      "text/plain": [
       "/kaggle/models/saved-model-02-0.67.hdf5"
      ]
     },
     "execution_count": 24,
     "metadata": {},
     "output_type": "execute_result"
    }
   ],
   "source": [
    "from IPython.display import FileLink\n",
    "FileLink(r\"/kaggle/models/\"+best_model)"
   ]
  },
  {
   "cell_type": "code",
   "execution_count": 25,
   "id": "d5a96e2f",
   "metadata": {
    "execution": {
     "iopub.execute_input": "2022-11-29T07:42:31.388982Z",
     "iopub.status.busy": "2022-11-29T07:42:31.387990Z",
     "iopub.status.idle": "2022-11-29T07:42:32.385487Z",
     "shell.execute_reply": "2022-11-29T07:42:32.384041Z"
    },
    "papermill": {
     "duration": 9.175061,
     "end_time": "2022-11-29T07:42:32.385632",
     "exception": false,
     "start_time": "2022-11-29T07:42:23.210571",
     "status": "completed"
    },
    "tags": []
   },
   "outputs": [],
   "source": [
    "!mkdir /kaggle/working/models"
   ]
  },
  {
   "cell_type": "code",
   "execution_count": 26,
   "id": "0b0aca1d",
   "metadata": {
    "execution": {
     "iopub.execute_input": "2022-11-29T07:42:49.306758Z",
     "iopub.status.busy": "2022-11-29T07:42:49.305697Z",
     "iopub.status.idle": "2022-11-29T07:43:14.096790Z",
     "shell.execute_reply": "2022-11-29T07:43:14.096342Z"
    },
    "papermill": {
     "duration": 33.393861,
     "end_time": "2022-11-29T07:43:14.096917",
     "exception": false,
     "start_time": "2022-11-29T07:42:40.703056",
     "status": "completed"
    },
    "tags": []
   },
   "outputs": [
    {
     "data": {
      "text/html": [
       "<a href='/kaggle/working/models.zip.zip' target='_blank'>/kaggle/working/models.zip.zip</a><br>"
      ],
      "text/plain": [
       "/kaggle/working/models.zip.zip"
      ]
     },
     "execution_count": 26,
     "metadata": {},
     "output_type": "execute_result"
    }
   ],
   "source": [
    "shutil.move(\"/kaggle/models/\", \"/kaggle/working/models/\")\n",
    "shutil.make_archive(\"/kaggle/working/models.zip\", 'zip', \"/kaggle/working/models/\")\n",
    "\n",
    "\n",
    "FileLink(r\"/kaggle/working/models.zip.zip\")"
   ]
  },
  {
   "cell_type": "code",
   "execution_count": null,
   "id": "ae6c0fe5",
   "metadata": {
    "papermill": {
     "duration": 8.540522,
     "end_time": "2022-11-29T07:43:31.439631",
     "exception": false,
     "start_time": "2022-11-29T07:43:22.899109",
     "status": "completed"
    },
    "tags": []
   },
   "outputs": [],
   "source": []
  }
 ],
 "metadata": {
  "kernelspec": {
   "display_name": "Python 3",
   "language": "python",
   "name": "python3"
  },
  "language_info": {
   "codemirror_mode": {
    "name": "ipython",
    "version": 3
   },
   "file_extension": ".py",
   "mimetype": "text/x-python",
   "name": "python",
   "nbconvert_exporter": "python",
   "pygments_lexer": "ipython3",
   "version": "3.7.12"
  },
  "papermill": {
   "default_parameters": {},
   "duration": 29941.96853,
   "end_time": "2022-11-29T07:43:43.343751",
   "environment_variables": {},
   "exception": null,
   "input_path": "__notebook__.ipynb",
   "output_path": "__notebook__.ipynb",
   "parameters": {},
   "start_time": "2022-11-28T23:24:41.375221",
   "version": "2.3.3"
  }
 },
 "nbformat": 4,
 "nbformat_minor": 5
}
